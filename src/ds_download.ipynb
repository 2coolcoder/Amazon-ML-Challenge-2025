{
 "cells": [
  {
   "cell_type": "markdown",
   "id": "d9006034",
   "metadata": {},
   "source": [
    "##  Basic Library imports"
   ]
  },
  {
   "cell_type": "code",
   "execution_count": 1,
   "id": "432e4616",
   "metadata": {},
   "outputs": [],
   "source": [
    "import os\n",
    "import pandas as pd \n",
    "import numpy as np"
   ]
  },
  {
   "cell_type": "markdown",
   "id": "f8811f03",
   "metadata": {},
   "source": [
    "##  Read Dataset"
   ]
  },
  {
   "cell_type": "code",
   "execution_count": 2,
   "id": "15cad5fd",
   "metadata": {},
   "outputs": [],
   "source": [
    "DATASET_FOLDER = '../dataset/'\n",
    "train = pd.read_csv(os.path.join(DATASET_FOLDER, 'train.csv'), index_col=0)\n",
    "test = pd.read_csv(os.path.join(DATASET_FOLDER, 'test.csv'), index_col=0)\n",
    "sample_test = pd.read_csv(os.path.join(DATASET_FOLDER, 'sample_test.csv'))\n",
    "sample_test_out = pd.read_csv(os.path.join(DATASET_FOLDER, 'sample_test_out.csv'))"
   ]
  },
  {
   "cell_type": "code",
   "execution_count": 3,
   "id": "75634af1",
   "metadata": {},
   "outputs": [
    {
     "data": {
      "text/html": [
       "<div>\n",
       "<style scoped>\n",
       "    .dataframe tbody tr th:only-of-type {\n",
       "        vertical-align: middle;\n",
       "    }\n",
       "\n",
       "    .dataframe tbody tr th {\n",
       "        vertical-align: top;\n",
       "    }\n",
       "\n",
       "    .dataframe thead th {\n",
       "        text-align: right;\n",
       "    }\n",
       "</style>\n",
       "<table border=\"1\" class=\"dataframe\">\n",
       "  <thead>\n",
       "    <tr style=\"text-align: right;\">\n",
       "      <th></th>\n",
       "      <th>catalog_content</th>\n",
       "      <th>image_link</th>\n",
       "      <th>price</th>\n",
       "    </tr>\n",
       "    <tr>\n",
       "      <th>sample_id</th>\n",
       "      <th></th>\n",
       "      <th></th>\n",
       "      <th></th>\n",
       "    </tr>\n",
       "  </thead>\n",
       "  <tbody>\n",
       "    <tr>\n",
       "      <th>33127</th>\n",
       "      <td>Item Name: La Victoria Green Taco Sauce Mild, ...</td>\n",
       "      <td>https://m.media-amazon.com/images/I/51mo8htwTH...</td>\n",
       "      <td>4.890</td>\n",
       "    </tr>\n",
       "    <tr>\n",
       "      <th>198967</th>\n",
       "      <td>Item Name: Salerno Cookies, The Original Butte...</td>\n",
       "      <td>https://m.media-amazon.com/images/I/71YtriIHAA...</td>\n",
       "      <td>13.120</td>\n",
       "    </tr>\n",
       "    <tr>\n",
       "      <th>261251</th>\n",
       "      <td>Item Name: Bear Creek Hearty Soup Bowl, Creamy...</td>\n",
       "      <td>https://m.media-amazon.com/images/I/51+PFEe-w-...</td>\n",
       "      <td>1.970</td>\n",
       "    </tr>\n",
       "    <tr>\n",
       "      <th>55858</th>\n",
       "      <td>Item Name: Judee’s Blue Cheese Powder 11.25 oz...</td>\n",
       "      <td>https://m.media-amazon.com/images/I/41mu0HAToD...</td>\n",
       "      <td>30.340</td>\n",
       "    </tr>\n",
       "    <tr>\n",
       "      <th>292686</th>\n",
       "      <td>Item Name: kedem Sherry Cooking Wine, 12.7 Oun...</td>\n",
       "      <td>https://m.media-amazon.com/images/I/41sA037+Qv...</td>\n",
       "      <td>66.490</td>\n",
       "    </tr>\n",
       "    <tr>\n",
       "      <th>...</th>\n",
       "      <td>...</td>\n",
       "      <td>...</td>\n",
       "      <td>...</td>\n",
       "    </tr>\n",
       "    <tr>\n",
       "      <th>41424</th>\n",
       "      <td>Item Name: ICE BREAKERS Spearmint Sugar Free M...</td>\n",
       "      <td>https://m.media-amazon.com/images/I/81p9PcPsff...</td>\n",
       "      <td>10.395</td>\n",
       "    </tr>\n",
       "    <tr>\n",
       "      <th>35537</th>\n",
       "      <td>Item Name: Davidson's Organics, Vanilla Essenc...</td>\n",
       "      <td>https://m.media-amazon.com/images/I/51DDKoa+mb...</td>\n",
       "      <td>35.920</td>\n",
       "    </tr>\n",
       "    <tr>\n",
       "      <th>249971</th>\n",
       "      <td>Item Name: Jolly Rancher Hard Candy - Blue Ras...</td>\n",
       "      <td>https://m.media-amazon.com/images/I/91R2XCcpUf...</td>\n",
       "      <td>50.330</td>\n",
       "    </tr>\n",
       "    <tr>\n",
       "      <th>188322</th>\n",
       "      <td>Item Name: Nescafe Dolce Gusto Capsules - CARA...</td>\n",
       "      <td>https://m.media-amazon.com/images/I/51W40YU98+...</td>\n",
       "      <td>15.275</td>\n",
       "    </tr>\n",
       "    <tr>\n",
       "      <th>298504</th>\n",
       "      <td>Item Name: Pimenton de la Vera - Picante (2.47...</td>\n",
       "      <td>https://m.media-amazon.com/images/I/81dFnrP6C4...</td>\n",
       "      <td>28.240</td>\n",
       "    </tr>\n",
       "  </tbody>\n",
       "</table>\n",
       "<p>75000 rows × 3 columns</p>\n",
       "</div>"
      ],
      "text/plain": [
       "                                             catalog_content  \\\n",
       "sample_id                                                      \n",
       "33127      Item Name: La Victoria Green Taco Sauce Mild, ...   \n",
       "198967     Item Name: Salerno Cookies, The Original Butte...   \n",
       "261251     Item Name: Bear Creek Hearty Soup Bowl, Creamy...   \n",
       "55858      Item Name: Judee’s Blue Cheese Powder 11.25 oz...   \n",
       "292686     Item Name: kedem Sherry Cooking Wine, 12.7 Oun...   \n",
       "...                                                      ...   \n",
       "41424      Item Name: ICE BREAKERS Spearmint Sugar Free M...   \n",
       "35537      Item Name: Davidson's Organics, Vanilla Essenc...   \n",
       "249971     Item Name: Jolly Rancher Hard Candy - Blue Ras...   \n",
       "188322     Item Name: Nescafe Dolce Gusto Capsules - CARA...   \n",
       "298504     Item Name: Pimenton de la Vera - Picante (2.47...   \n",
       "\n",
       "                                                  image_link   price  \n",
       "sample_id                                                             \n",
       "33127      https://m.media-amazon.com/images/I/51mo8htwTH...   4.890  \n",
       "198967     https://m.media-amazon.com/images/I/71YtriIHAA...  13.120  \n",
       "261251     https://m.media-amazon.com/images/I/51+PFEe-w-...   1.970  \n",
       "55858      https://m.media-amazon.com/images/I/41mu0HAToD...  30.340  \n",
       "292686     https://m.media-amazon.com/images/I/41sA037+Qv...  66.490  \n",
       "...                                                      ...     ...  \n",
       "41424      https://m.media-amazon.com/images/I/81p9PcPsff...  10.395  \n",
       "35537      https://m.media-amazon.com/images/I/51DDKoa+mb...  35.920  \n",
       "249971     https://m.media-amazon.com/images/I/91R2XCcpUf...  50.330  \n",
       "188322     https://m.media-amazon.com/images/I/51W40YU98+...  15.275  \n",
       "298504     https://m.media-amazon.com/images/I/81dFnrP6C4...  28.240  \n",
       "\n",
       "[75000 rows x 3 columns]"
      ]
     },
     "execution_count": 3,
     "metadata": {},
     "output_type": "execute_result"
    }
   ],
   "source": [
    "train.index = train.index.astype(str)\n",
    "test.index = test.index.astype(str)\n",
    "train"
   ]
  },
  {
   "cell_type": "code",
   "execution_count": 4,
   "id": "db903c4a",
   "metadata": {},
   "outputs": [],
   "source": [
    "def get_filenames_os(directory_path):\n",
    "    \"\"\"\n",
    "    Returns a list of filenames in the specified directory.\n",
    "    \"\"\"\n",
    "    filenames = []\n",
    "    for entry in os.listdir(directory_path):\n",
    "        full_path = os.path.join(directory_path, entry)\n",
    "        if os.path.isfile(full_path):\n",
    "            filenames.append(entry)\n",
    "    return filenames"
   ]
  },
  {
   "cell_type": "code",
   "execution_count": 5,
   "id": "de4c54d3",
   "metadata": {},
   "outputs": [],
   "source": [
    "train_downloaded_files = set(get_filenames_os('../images/train'))\n",
    "train_files = set(train.index)\n",
    "train_files_to_download = list(train_files - train_downloaded_files)\n",
    "test_downloaded_files = set(get_filenames_os('../images/test'))\n",
    "test_files = set(test.index)\n",
    "test_files_to_download = list(test_files - test_downloaded_files)\n"
   ]
  },
  {
   "cell_type": "code",
   "execution_count": 6,
   "id": "2631794e",
   "metadata": {},
   "outputs": [
    {
     "name": "stdout",
     "output_type": "stream",
     "text": [
      "75000/75000 downloaded. Remaining: 0\n",
      "75000/75000 downloaded. Remaining: 0\n",
      "75000\n",
      "75000\n"
     ]
    }
   ],
   "source": [
    "print(f\"{len(train_downloaded_files)}/{len(train_files)} downloaded. Remaining: {len(train_files_to_download)}\")\n",
    "print(f\"{len(test_downloaded_files)}/{len(test_files)} downloaded. Remaining: {len(test_files_to_download)}\")\n",
    "print(len(train_downloaded_files & train_files))\n",
    "print(len(test_downloaded_files & test_files))\n"
   ]
  },
  {
   "cell_type": "code",
   "execution_count": 8,
   "id": "38833ac8",
   "metadata": {},
   "outputs": [
    {
     "data": {
      "text/plain": [
       "75000"
      ]
     },
     "execution_count": 8,
     "metadata": {},
     "output_type": "execute_result"
    }
   ],
   "source": [
    "len(set(test_downloaded_files) & set(test_files))\n",
    "# len(train_downloaded_files)"
   ]
  },
  {
   "cell_type": "code",
   "execution_count": 9,
   "id": "32f785f3",
   "metadata": {},
   "outputs": [
    {
     "data": {
      "text/plain": [
       "Series([], Name: image_link, dtype: object)"
      ]
     },
     "execution_count": 9,
     "metadata": {},
     "output_type": "execute_result"
    }
   ],
   "source": [
    "train.loc[train_files_to_download, 'image_link']"
   ]
  },
  {
   "cell_type": "code",
   "execution_count": 10,
   "id": "4ae4e0f9",
   "metadata": {},
   "outputs": [
    {
     "name": "stderr",
     "output_type": "stream",
     "text": [
      "0it [00:00, ?it/s]\n",
      "0it [00:00, ?it/s]\n"
     ]
    }
   ],
   "source": [
    "from utils import download_images,download_image\n",
    "train_urls = []\n",
    "download_images(train.loc[train_files_to_download, 'image_link'].values, '../images/train',train.index)\n",
    "download_images(test.loc[test_files_to_download, 'image_link'].values, '../images/test',test.index)"
   ]
  }
 ],
 "metadata": {
  "kernelspec": {
   "display_name": "base",
   "language": "python",
   "name": "python3"
  },
  "language_info": {
   "codemirror_mode": {
    "name": "ipython",
    "version": 3
   },
   "file_extension": ".py",
   "mimetype": "text/x-python",
   "name": "python",
   "nbconvert_exporter": "python",
   "pygments_lexer": "ipython3",
   "version": "3.12.7"
  }
 },
 "nbformat": 4,
 "nbformat_minor": 5
}
